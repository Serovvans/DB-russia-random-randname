{
  "cells": [
    {
      "cell_type": "code",
      "execution_count": 7,
      "metadata": {
        "id": "Q5lBgm4UrWmo"
      },
      "outputs": [],
      "source": [
        "import pandas as pd"
      ]
    },
    {
      "cell_type": "code",
      "execution_count": 15,
      "metadata": {
        "id": "fBCCYPkpo8Va"
      },
      "outputs": [],
      "source": [
        "path = \"./\"\n",
        "data = pd.read_csv(path + 'train_events_adjusted_time.csv')\n",
        "old = pd.read_csv(path + 'train_events.csv')\n",
        "video = pd.read_csv(path + 'video_info_v2.csv')\n",
        "targets = pd.read_csv(path + 'train_targets.csv')\n",
        "\n",
        "old = old[['viewer_uid', 'event_timestamp', 'rutube_video_id']]"
      ]
    },
    {
      "cell_type": "code",
      "execution_count": 16,
      "metadata": {
        "id": "6GH3waMBo5Zt"
      },
      "outputs": [],
      "source": [
        "def remove_outliers(df, columns, method='iqr', factor=1.5):\n",
        "    \"\"\"\n",
        "    Удаляет выбросы из указанных столбцов DataFrame с использованием указанного метода.\n",
        "\n",
        "    Параметры:\n",
        "    - df (pd.DataFrame): исходный DataFrame\n",
        "    - columns (list): список столбцов для очистки от выбросов\n",
        "    - method (str): метод для удаления выбросов, может быть 'iqr' или 'std'\n",
        "                    ('iqr' - интерквартильный размах, 'std' - стандартное отклонение)\n",
        "    - factor (float): множитель для определения границ выбросов (по умолчанию 1.5 для IQR и 3 для std)\n",
        "\n",
        "    Возвращает:\n",
        "    - pd.DataFrame: DataFrame без выбросов в указанных столбцах\n",
        "    \"\"\"\n",
        "\n",
        "    df_clean = df.copy()\n",
        "\n",
        "    if method not in ['iqr', 'std']:\n",
        "        raise ValueError(\"Метод должен быть 'iqr' или 'std'\")\n",
        "\n",
        "    for column in columns:\n",
        "        if method == 'iqr':\n",
        "            Q1 = df_clean[column].quantile(0.25)\n",
        "            Q3 = df_clean[column].quantile(0.75)\n",
        "            IQR = Q3 - Q1\n",
        "            lower_bound = Q1 - factor * IQR\n",
        "            upper_bound = Q3 + factor * IQR\n",
        "\n",
        "        elif method == 'std':\n",
        "            mean = df_clean[column].mean()\n",
        "            std_dev = df_clean[column].std()\n",
        "            lower_bound = mean - factor * std_dev\n",
        "            upper_bound = mean + factor * std_dev\n",
        "\n",
        "        # Фильтрация DataFrame по границам выбросов\n",
        "        df_clean = df_clean[(df_clean[column] >= lower_bound) & (df_clean[column] <= upper_bound)]\n",
        "\n",
        "    return df_clean"
      ]
    },
    {
      "cell_type": "code",
      "execution_count": 17,
      "metadata": {
        "id": "Ymu_biZFlnbk"
      },
      "outputs": [],
      "source": [
        "merge_data = data.merge(video, how=\"left\", on=\"rutube_video_id\")\n",
        "del video, data\n",
        "merge_data = merge_data.merge(targets[['age', 'age_class', 'sex', 'viewer_uid']],\n",
        "                              how=\"left\", on=\"viewer_uid\")\n",
        "\n",
        "del targets"
      ]
    },
    {
      "cell_type": "code",
      "execution_count": 18,
      "metadata": {
        "id": "A7pEA7e9qcUQ"
      },
      "outputs": [
        {
          "name": "stderr",
          "output_type": "stream",
          "text": [
            "C:\\Users\\dlevi\\AppData\\Local\\Temp\\ipykernel_4276\\2359768156.py:6: FutureWarning: A value is trying to be set on a copy of a DataFrame or Series through chained assignment using an inplace method.\n",
            "The behavior will change in pandas 3.0. This inplace method will never work because the intermediate object on which we are setting values always behaves as a copy.\n",
            "\n",
            "For example, when doing 'df[col].method(value, inplace=True)', try using 'df.method({col: value}, inplace=True)' or df[col] = df[col].method(value) instead, to perform the operation inplace on the original object.\n",
            "\n",
            "\n",
            "  merge_data['ua_os'].fillna(mode_value, inplace=True)\n",
            "C:\\Users\\dlevi\\AppData\\Local\\Temp\\ipykernel_4276\\2359768156.py:9: FutureWarning: A value is trying to be set on a copy of a DataFrame or Series through chained assignment using an inplace method.\n",
            "The behavior will change in pandas 3.0. This inplace method will never work because the intermediate object on which we are setting values always behaves as a copy.\n",
            "\n",
            "For example, when doing 'df[col].method(value, inplace=True)', try using 'df.method({col: value}, inplace=True)' or df[col] = df[col].method(value) instead, to perform the operation inplace on the original object.\n",
            "\n",
            "\n",
            "  merge_data['ua_client_name'].fillna(mode_value, inplace=True)\n"
          ]
        }
      ],
      "source": [
        "# Очистка выбросов\n",
        "merge_data = remove_outliers(merge_data, ['total_watchtime'], method='iqr')\n",
        "\n",
        "# Заполнение пропусков\n",
        "mode_value = merge_data['ua_os'].mode()[0]\n",
        "merge_data['ua_os'].fillna(mode_value, inplace=True)\n",
        "\n",
        "mode_value = merge_data['ua_client_name'].mode()[0]\n",
        "merge_data['ua_client_name'].fillna(mode_value, inplace=True)\n",
        "\n",
        "\n",
        "# Удаление канала, который только зашумляет наши данные\n",
        "merge_data = merge_data[merge_data['author_id'] != 1009257]\n",
        "merge_data = merge_data[merge_data['author_id'] != 1043618]"
      ]
    },
    {
      "cell_type": "code",
      "execution_count": 19,
      "metadata": {
        "colab": {
          "base_uri": "https://localhost:8080/"
        },
        "id": "PbtF5Q0TKupp",
        "outputId": "5d26f442-f191-4f2d-872a-28168b87815f"
      },
      "outputs": [
        {
          "name": "stdout",
          "output_type": "stream",
          "text": [
            "0    1\n",
            "1    1\n",
            "2    1\n",
            "3    1\n",
            "4    1\n",
            "Name: date, dtype: object\n"
          ]
        }
      ],
      "source": [
        "old['date'] = pd.to_datetime(old['event_timestamp']).dt.day.astype(str)\n",
        "\n",
        "print(old['date'].head())\n",
        "\n",
        "old = old.drop(columns=['event_timestamp'])\n",
        "\n",
        "merge_data['date'] = old['date'][merge_data.index]\n",
        "del old"
      ]
    },
    {
      "cell_type": "code",
      "execution_count": 20,
      "metadata": {
        "colab": {
          "base_uri": "https://localhost:8080/"
        },
        "id": "Oh4o4nuDu0Ez",
        "outputId": "0c715acc-1280-45a5-de25-b93273cb3d00"
      },
      "outputs": [
        {
          "name": "stdout",
          "output_type": "stream",
          "text": [
            "<class 'pandas.core.frame.DataFrame'>\n",
            "Index: 1258601 entries, 0 to 1759615\n",
            "Data columns (total 18 columns):\n",
            " #   Column           Non-Null Count    Dtype \n",
            "---  ------           --------------    ----- \n",
            " 0   Unnamed: 0       1258601 non-null  int64 \n",
            " 1   region           1258601 non-null  object\n",
            " 2   ua_device_type   1258601 non-null  object\n",
            " 3   ua_client_type   1258601 non-null  object\n",
            " 4   ua_os            1258601 non-null  object\n",
            " 5   ua_client_name   1258601 non-null  object\n",
            " 6   total_watchtime  1258601 non-null  int64 \n",
            " 7   rutube_video_id  1258601 non-null  object\n",
            " 8   viewer_uid       1258601 non-null  int64 \n",
            " 9   adjusted_time    1258601 non-null  object\n",
            " 10  title            1258601 non-null  object\n",
            " 11  category         1258601 non-null  object\n",
            " 12  duration         1258601 non-null  int64 \n",
            " 13  author_id        1258601 non-null  int64 \n",
            " 14  age              1258601 non-null  int64 \n",
            " 15  age_class        1258601 non-null  int64 \n",
            " 16  sex              1258601 non-null  object\n",
            " 17  date             1258601 non-null  object\n",
            "dtypes: int64(7), object(11)\n",
            "memory usage: 182.4+ MB\n"
          ]
        }
      ],
      "source": [
        "merge_data.info()"
      ]
    },
    {
      "cell_type": "code",
      "execution_count": 22,
      "metadata": {},
      "outputs": [
        {
          "data": {
            "text/html": [
              "<div>\n",
              "<style scoped>\n",
              "    .dataframe tbody tr th:only-of-type {\n",
              "        vertical-align: middle;\n",
              "    }\n",
              "\n",
              "    .dataframe tbody tr th {\n",
              "        vertical-align: top;\n",
              "    }\n",
              "\n",
              "    .dataframe thead th {\n",
              "        text-align: right;\n",
              "    }\n",
              "</style>\n",
              "<table border=\"1\" class=\"dataframe\">\n",
              "  <thead>\n",
              "    <tr style=\"text-align: right;\">\n",
              "      <th></th>\n",
              "      <th>region</th>\n",
              "      <th>ua_device_type</th>\n",
              "      <th>ua_client_type</th>\n",
              "      <th>ua_os</th>\n",
              "      <th>ua_client_name</th>\n",
              "      <th>total_watchtime</th>\n",
              "      <th>rutube_video_id</th>\n",
              "      <th>viewer_uid</th>\n",
              "      <th>adjusted_time</th>\n",
              "      <th>title</th>\n",
              "      <th>category</th>\n",
              "      <th>duration</th>\n",
              "      <th>author_id</th>\n",
              "      <th>age</th>\n",
              "      <th>age_class</th>\n",
              "      <th>sex</th>\n",
              "      <th>date</th>\n",
              "    </tr>\n",
              "  </thead>\n",
              "  <tbody>\n",
              "    <tr>\n",
              "      <th>0</th>\n",
              "      <td>Chelyabinsk</td>\n",
              "      <td>desktop</td>\n",
              "      <td>browser</td>\n",
              "      <td>Windows</td>\n",
              "      <td>Yandex Browser</td>\n",
              "      <td>1883</td>\n",
              "      <td>video_133074</td>\n",
              "      <td>10067243</td>\n",
              "      <td>08:40:58</td>\n",
              "      <td>Папа с особенностями. Мужское / Женское. Выпус...</td>\n",
              "      <td>Телепередачи</td>\n",
              "      <td>2456534</td>\n",
              "      <td>1009219</td>\n",
              "      <td>20</td>\n",
              "      <td>0</td>\n",
              "      <td>female</td>\n",
              "      <td>1</td>\n",
              "    </tr>\n",
              "    <tr>\n",
              "      <th>1</th>\n",
              "      <td>Bashkortostan Republic</td>\n",
              "      <td>smartphone</td>\n",
              "      <td>mobile app</td>\n",
              "      <td>Android</td>\n",
              "      <td>Rutube</td>\n",
              "      <td>512</td>\n",
              "      <td>video_362960</td>\n",
              "      <td>10245341</td>\n",
              "      <td>21:33:24</td>\n",
              "      <td>Comedy Club: Мальдивы | Андрей Бебуришвили</td>\n",
              "      <td>Юмор</td>\n",
              "      <td>519211</td>\n",
              "      <td>1006760</td>\n",
              "      <td>40</td>\n",
              "      <td>2</td>\n",
              "      <td>female</td>\n",
              "      <td>1</td>\n",
              "    </tr>\n",
              "    <tr>\n",
              "      <th>3</th>\n",
              "      <td>Moscow</td>\n",
              "      <td>smartphone</td>\n",
              "      <td>mobile app</td>\n",
              "      <td>Android</td>\n",
              "      <td>Rutube</td>\n",
              "      <td>1521</td>\n",
              "      <td>video_161610</td>\n",
              "      <td>10029092</td>\n",
              "      <td>23:03:42</td>\n",
              "      <td>Сергей Орлов-снял дом!!!</td>\n",
              "      <td>Разное</td>\n",
              "      <td>1522069</td>\n",
              "      <td>1058671</td>\n",
              "      <td>41</td>\n",
              "      <td>3</td>\n",
              "      <td>male</td>\n",
              "      <td>1</td>\n",
              "    </tr>\n",
              "    <tr>\n",
              "      <th>4</th>\n",
              "      <td>Moscow</td>\n",
              "      <td>smartphone</td>\n",
              "      <td>mobile app</td>\n",
              "      <td>Android</td>\n",
              "      <td>Rutube</td>\n",
              "      <td>71</td>\n",
              "      <td>video_116245</td>\n",
              "      <td>10452976</td>\n",
              "      <td>22:48:09</td>\n",
              "      <td>Ищем сокровища в Полевском | Уральская Флоренц...</td>\n",
              "      <td>Путешествия</td>\n",
              "      <td>1249920</td>\n",
              "      <td>1020020</td>\n",
              "      <td>38</td>\n",
              "      <td>2</td>\n",
              "      <td>female</td>\n",
              "      <td>1</td>\n",
              "    </tr>\n",
              "    <tr>\n",
              "      <th>5</th>\n",
              "      <td>Rostov</td>\n",
              "      <td>smartphone</td>\n",
              "      <td>mobile app</td>\n",
              "      <td>Android</td>\n",
              "      <td>Rutube</td>\n",
              "      <td>60</td>\n",
              "      <td>video_61152</td>\n",
              "      <td>10013813</td>\n",
              "      <td>04:11:51</td>\n",
              "      <td>День защиты детей. Мужское / Женское. Выпуск о...</td>\n",
              "      <td>Телепередачи</td>\n",
              "      <td>2465238</td>\n",
              "      <td>1009219</td>\n",
              "      <td>44</td>\n",
              "      <td>3</td>\n",
              "      <td>female</td>\n",
              "      <td>1</td>\n",
              "    </tr>\n",
              "  </tbody>\n",
              "</table>\n",
              "</div>"
            ],
            "text/plain": [
              "                   region ua_device_type ua_client_type    ua_os  \\\n",
              "0             Chelyabinsk        desktop        browser  Windows   \n",
              "1  Bashkortostan Republic     smartphone     mobile app  Android   \n",
              "3                  Moscow     smartphone     mobile app  Android   \n",
              "4                  Moscow     smartphone     mobile app  Android   \n",
              "5                  Rostov     smartphone     mobile app  Android   \n",
              "\n",
              "   ua_client_name  total_watchtime rutube_video_id  viewer_uid adjusted_time  \\\n",
              "0  Yandex Browser             1883    video_133074    10067243      08:40:58   \n",
              "1          Rutube              512    video_362960    10245341      21:33:24   \n",
              "3          Rutube             1521    video_161610    10029092      23:03:42   \n",
              "4          Rutube               71    video_116245    10452976      22:48:09   \n",
              "5          Rutube               60     video_61152    10013813      04:11:51   \n",
              "\n",
              "                                               title      category  duration  \\\n",
              "0  Папа с особенностями. Мужское / Женское. Выпус...  Телепередачи   2456534   \n",
              "1         Comedy Club: Мальдивы | Андрей Бебуришвили          Юмор    519211   \n",
              "3                           Сергей Орлов-снял дом!!!        Разное   1522069   \n",
              "4  Ищем сокровища в Полевском | Уральская Флоренц...   Путешествия   1249920   \n",
              "5  День защиты детей. Мужское / Женское. Выпуск о...  Телепередачи   2465238   \n",
              "\n",
              "   author_id  age  age_class     sex date  \n",
              "0    1009219   20          0  female    1  \n",
              "1    1006760   40          2  female    1  \n",
              "3    1058671   41          3    male    1  \n",
              "4    1020020   38          2  female    1  \n",
              "5    1009219   44          3  female    1  "
            ]
          },
          "execution_count": 22,
          "metadata": {},
          "output_type": "execute_result"
        }
      ],
      "source": [
        "merge_data.drop(columns=['Unnamed: 0'], inplace=True)\n",
        "merge_data.head()"
      ]
    },
    {
      "cell_type": "code",
      "execution_count": 23,
      "metadata": {
        "id": "vNB0dtsVt8uV"
      },
      "outputs": [],
      "source": [
        "merge_data.to_csv(path + \"clear_data_times_data.csv\")"
      ]
    }
  ],
  "metadata": {
    "colab": {
      "provenance": []
    },
    "kernelspec": {
      "display_name": "Python 3",
      "name": "python3"
    },
    "language_info": {
      "codemirror_mode": {
        "name": "ipython",
        "version": 3
      },
      "file_extension": ".py",
      "mimetype": "text/x-python",
      "name": "python",
      "nbconvert_exporter": "python",
      "pygments_lexer": "ipython3",
      "version": "3.10.11"
    }
  },
  "nbformat": 4,
  "nbformat_minor": 0
}
